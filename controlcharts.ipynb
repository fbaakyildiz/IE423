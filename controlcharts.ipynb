{
 "cells": [
  {
   "cell_type": "code",
   "execution_count": null,
   "metadata": {},
   "outputs": [
    {
     "name": "stdout",
     "output_type": "stream",
     "text": [
      "   fixture_id  interest_score\n",
      "0    19139711            5388\n",
      "1    19135254            5331\n",
      "2    19155178            5275\n",
      "3    19134467            5224\n",
      "4    19172053            5220\n",
      "5    19135378            5214\n",
      "6    19155103            5204\n",
      "7    19172038            5174\n"
     ]
    }
   ],
   "source": [
    "import pandas as pd\n",
    "import numpy as np\n",
    "from scipy.stats import zscore\n",
    "\n",
    "\n",
    "data = pd.read_csv(\"ıe423matchdata.csv\", encoding='ISO-8859-1')  # Specify encoding to handle UnicodeDecodeError (Chatgpt 4o model was used in this part)\n",
    "\n",
    "def calculate_control_limits(series, z=3):\n",
    "    mean = np.mean(series)\n",
    "    std_dev = np.std(series)\n",
    "    upper_limit = mean + z * std_dev\n",
    "    lower_limit = mean - z * std_dev\n",
    "    return mean, upper_limit, lower_limit\n",
    "\n",
    "\n",
    "interesting_matches = {}\n",
    "for match_id in data['fixture_id'].unique():\n",
    "    match_data = data[data['fixture_id'] == match_id]\n",
    "\n",
    "    # Choose a metric (Ball Possession for now)\n",
    "    ball_possession_home = match_data['Ball.Possession_home'].diff().dropna()\n",
    "    ball_possession_away = match_data['Ball.Possession_away'].diff().dropna()\n",
    "\n",
    "    mean_home, upper_limit_home, lower_limit_home = calculate_control_limits(ball_possession_home)\n",
    "    mean_away, upper_limit_away, lower_limit_away = calculate_control_limits(ball_possession_away)\n",
    "\n",
    "    # Detect significant shifts\n",
    "    out_of_control_home = ((ball_possession_home > upper_limit_home) | (ball_possession_home < lower_limit_home)).sum()\n",
    "    out_of_control_away = ((ball_possession_away > upper_limit_away) | (ball_possession_away < lower_limit_away)).sum()\n",
    "\n",
    "    # Check if any events align with detected shifts\n",
    "    events = match_data[['minute', 'Redcards_home', 'Redcards_away', 'Goals_home', 'Goals_away']].sum().sum()\n",
    "\n",
    "    # Determine interest score for each match\n",
    "    interest_score = out_of_control_home + out_of_control_away + events\n",
    "\n",
    "    if interest_score > 0:\n",
    "        interesting_matches[match_id] = interest_score\n",
    "\n",
    "# Select the top 8 matches with the highest interest score\n",
    "sorted_matches = sorted(interesting_matches.items(), key=lambda x: x[1], reverse=True)[:8]\n",
    "\n",
    "\n",
    "significant_matches = pd.DataFrame(sorted_matches, columns=['fixture_id', 'interest_score'])\n",
    "print(significant_matches)\n",
    "\n"
   ]
  },
  {
   "cell_type": "code",
   "execution_count": null,
   "metadata": {},
   "outputs": [
    {
     "name": "stdout",
     "output_type": "stream",
     "text": [
      "   fixture_id  interest_score\n",
      "0    19139711            5391\n",
      "1    19135254            5331\n",
      "2    19155178            5278\n",
      "3    19134467            5223\n",
      "4    19172053            5221\n",
      "5    19135378            5215\n",
      "6    19155103            5203\n",
      "7    19172038            5174\n"
     ]
    }
   ],
   "source": [
    "import pandas as pd\n",
    "import numpy as np\n",
    "from scipy.stats import zscore\n",
    "\n",
    "data = pd.read_csv(\"ıe423matchdata.csv\", encoding='ISO-8859-1')  \n",
    "\n",
    "\n",
    "def calculate_control_limits(series, z=3):\n",
    "    mean = np.mean(series)\n",
    "    std_dev = np.std(series)\n",
    "    upper_limit = mean + z * std_dev\n",
    "    lower_limit = mean - z * std_dev\n",
    "    return mean, upper_limit, lower_limit\n",
    "\n",
    "interesting_matches = {}\n",
    "for match_id in data['fixture_id'].unique():\n",
    "    match_data = data[data['fixture_id'] == match_id]\n",
    "\n",
    "    #(Successful Passes)\n",
    "    successful_passes_home = match_data['Successful.Passes_home'].diff().dropna()\n",
    "    successful_passes_away = match_data['Successful.Passes_away'].diff().dropna()\n",
    "\n",
    "    \n",
    "    mean_home, upper_limit_home, lower_limit_home = calculate_control_limits(successful_passes_home)\n",
    "    mean_away, upper_limit_away, lower_limit_away = calculate_control_limits(successful_passes_away)\n",
    "\n",
    "    \n",
    "    out_of_control_home = ((successful_passes_home > upper_limit_home) | (successful_passes_home < lower_limit_home)).sum()\n",
    "    out_of_control_away = ((successful_passes_away > upper_limit_away) | (successful_passes_away < lower_limit_away)).sum()\n",
    "\n",
    "   \n",
    "    events = match_data[['minute', 'Redcards_home', 'Redcards_away', 'Goals_home', 'Goals_away']].sum().sum()\n",
    "\n",
    "    \n",
    "    interest_score = out_of_control_home + out_of_control_away + events\n",
    "\n",
    "    if interest_score > 0:\n",
    "        interesting_matches[match_id] = interest_score\n",
    "\n",
    "sorted_matches = sorted(interesting_matches.items(), key=lambda x: x[1], reverse=True)[:8]\n",
    "\n",
    "\n",
    "significant_matches = pd.DataFrame(sorted_matches, columns=['fixture_id', 'interest_score'])\n",
    "print(significant_matches)\n",
    "\n",
    "\n"
   ]
  },
  {
   "cell_type": "markdown",
   "metadata": {},
   "source": [
    "It is appeared to be there is no difference in interesting matches' fixture ids when the both ball possesion and pass counts approaches are used. Since differencing the already normalized percantage values of minute by minute ball possessions is not accountful due to loss cumulative loss residuals, we developed the pass counts approach thus it is again represents the active gameplay, sensitive to events like red cards and differencing makes sense. Eventually both approacheas have the output containing the same fixture_ids thus mathces."
   ]
  }
 ],
 "metadata": {
  "kernelspec": {
   "display_name": "base",
   "language": "python",
   "name": "python3"
  },
  "language_info": {
   "codemirror_mode": {
    "name": "ipython",
    "version": 3
   },
   "file_extension": ".py",
   "mimetype": "text/x-python",
   "name": "python",
   "nbconvert_exporter": "python",
   "pygments_lexer": "ipython3",
   "version": "3.9.7"
  }
 },
 "nbformat": 4,
 "nbformat_minor": 2
}
